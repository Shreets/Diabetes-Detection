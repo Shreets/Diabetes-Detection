{
  "cells": [
    {
      "cell_type": "code",
      "execution_count": null,
      "metadata": {
        "colab": {
          "base_uri": "https://localhost:8080/"
        },
        "id": "yb0xtIg2yWWm",
        "outputId": "299cf782-1310-40c0-8fce-610ec1da979a"
      },
      "outputs": [
        {
          "name": "stdout",
          "output_type": "stream",
          "text": [
            "Looking in indexes: https://pypi.org/simple, https://us-python.pkg.dev/colab-wheels/public/simple/\n",
            "Requirement already satisfied: seaborn in /usr/local/lib/python3.8/dist-packages (0.11.2)\n",
            "Requirement already satisfied: matplotlib>=2.2 in /usr/local/lib/python3.8/dist-packages (from seaborn) (3.2.2)\n",
            "Requirement already satisfied: pandas>=0.23 in /usr/local/lib/python3.8/dist-packages (from seaborn) (1.3.5)\n",
            "Requirement already satisfied: scipy>=1.0 in /usr/local/lib/python3.8/dist-packages (from seaborn) (1.7.3)\n",
            "Requirement already satisfied: numpy>=1.15 in /usr/local/lib/python3.8/dist-packages (from seaborn) (1.21.6)\n",
            "Requirement already satisfied: pyparsing!=2.0.4,!=2.1.2,!=2.1.6,>=2.0.1 in /usr/local/lib/python3.8/dist-packages (from matplotlib>=2.2->seaborn) (3.0.9)\n",
            "Requirement already satisfied: kiwisolver>=1.0.1 in /usr/local/lib/python3.8/dist-packages (from matplotlib>=2.2->seaborn) (1.4.4)\n",
            "Requirement already satisfied: cycler>=0.10 in /usr/local/lib/python3.8/dist-packages (from matplotlib>=2.2->seaborn) (0.11.0)\n",
            "Requirement already satisfied: python-dateutil>=2.1 in /usr/local/lib/python3.8/dist-packages (from matplotlib>=2.2->seaborn) (2.8.2)\n",
            "Requirement already satisfied: pytz>=2017.3 in /usr/local/lib/python3.8/dist-packages (from pandas>=0.23->seaborn) (2022.6)\n",
            "Requirement already satisfied: six>=1.5 in /usr/local/lib/python3.8/dist-packages (from python-dateutil>=2.1->matplotlib>=2.2->seaborn) (1.15.0)\n"
          ]
        }
      ],
      "source": [
        "!pip install seaborn"
      ]
    },
    {
      "cell_type": "code",
      "execution_count": null,
      "metadata": {
        "colab": {
          "base_uri": "https://localhost:8080/"
        },
        "id": "UMu1kMM6D0CL",
        "outputId": "f1ed1c73-9f61-41ff-d2cc-17435cf6f9fa"
      },
      "outputs": [
        {
          "name": "stdout",
          "output_type": "stream",
          "text": [
            "Mounted at /content/drive\n"
          ]
        }
      ],
      "source": [
        "#Mounting google drive to google colab\n",
        "from google.colab import drive\n",
        "drive.mount('/content/drive')"
      ]
    },
    {
      "cell_type": "code",
      "execution_count": null,
      "metadata": {
        "colab": {
          "base_uri": "https://localhost:8080/"
        },
        "id": "Ku6JabzHDwkq",
        "outputId": "91082adf-6c0e-4af3-98e7-8a6557ea70bb"
      },
      "outputs": [
        {
          "name": "stdout",
          "output_type": "stream",
          "text": [
            "Looking in indexes: https://pypi.org/simple, https://us-python.pkg.dev/colab-wheels/public/simple/\n",
            "Requirement already satisfied: imbalanced-learn in /usr/local/lib/python3.8/dist-packages (0.10.1)\n",
            "Requirement already satisfied: joblib>=1.1.1 in /usr/local/lib/python3.8/dist-packages (from imbalanced-learn) (1.2.0)\n",
            "Requirement already satisfied: scikit-learn>=1.0.2 in /usr/local/lib/python3.8/dist-packages (from imbalanced-learn) (1.0.2)\n",
            "Requirement already satisfied: scipy>=1.3.2 in /usr/local/lib/python3.8/dist-packages (from imbalanced-learn) (1.7.3)\n",
            "Requirement already satisfied: numpy>=1.17.3 in /usr/local/lib/python3.8/dist-packages (from imbalanced-learn) (1.21.6)\n",
            "Requirement already satisfied: threadpoolctl>=2.0.0 in /usr/local/lib/python3.8/dist-packages (from imbalanced-learn) (3.1.0)\n"
          ]
        }
      ],
      "source": [
        "!pip install -U imbalanced-learn"
      ]
    },
    {
      "cell_type": "code",
      "execution_count": null,
      "metadata": {
        "id": "b2eEwflcMYV-"
      },
      "outputs": [],
      "source": [
        "#Importing dependencies\n",
        "import pandas as pd\n",
        "import numpy as np\n",
        "import matplotlib.pyplot as plt\n",
        "from sklearn.preprocessing import StandardScaler\n",
        "from sklearn.model_selection import train_test_split\n",
        "from imblearn.over_sampling import RandomOverSampler\n",
        "import tensorflow as tf\n",
        "from sklearn.metrics import confusion_matrix\n",
        "import seaborn as sns"
      ]
    },
    {
      "cell_type": "code",
      "execution_count": null,
      "metadata": {
        "id": "ZByH5_ucMwLj"
      },
      "outputs": [],
      "source": [
        "# load data to pandas dataframe\n",
        "diabetes_df = pd.read_csv('/content/drive/My Drive/diabetes.csv')"
      ]
    },
    {
      "cell_type": "code",
      "execution_count": null,
      "metadata": {
        "colab": {
          "base_uri": "https://localhost:8080/",
          "height": 206
        },
        "id": "lxFvI_uuPGH5",
        "outputId": "e949cfc5-305e-4299-8c85-f1a99e28f3d5"
      },
      "outputs": [
        {
          "data": {
            "text/html": [
              "\n",
              "  <div id=\"df-e907a63f-d2da-4450-99c4-a81de2b810ed\">\n",
              "    <div class=\"colab-df-container\">\n",
              "      <div>\n",
              "<style scoped>\n",
              "    .dataframe tbody tr th:only-of-type {\n",
              "        vertical-align: middle;\n",
              "    }\n",
              "\n",
              "    .dataframe tbody tr th {\n",
              "        vertical-align: top;\n",
              "    }\n",
              "\n",
              "    .dataframe thead th {\n",
              "        text-align: right;\n",
              "    }\n",
              "</style>\n",
              "<table border=\"1\" class=\"dataframe\">\n",
              "  <thead>\n",
              "    <tr style=\"text-align: right;\">\n",
              "      <th></th>\n",
              "      <th>Pregnancies</th>\n",
              "      <th>Glucose</th>\n",
              "      <th>BloodPressure</th>\n",
              "      <th>SkinThickness</th>\n",
              "      <th>Insulin</th>\n",
              "      <th>BMI</th>\n",
              "      <th>DiabetesPedigreeFunction</th>\n",
              "      <th>Age</th>\n",
              "      <th>Outcome</th>\n",
              "    </tr>\n",
              "  </thead>\n",
              "  <tbody>\n",
              "    <tr>\n",
              "      <th>129</th>\n",
              "      <td>0</td>\n",
              "      <td>105</td>\n",
              "      <td>84</td>\n",
              "      <td>0</td>\n",
              "      <td>0</td>\n",
              "      <td>27.9</td>\n",
              "      <td>0.741</td>\n",
              "      <td>62</td>\n",
              "      <td>1</td>\n",
              "    </tr>\n",
              "    <tr>\n",
              "      <th>322</th>\n",
              "      <td>0</td>\n",
              "      <td>124</td>\n",
              "      <td>70</td>\n",
              "      <td>20</td>\n",
              "      <td>0</td>\n",
              "      <td>27.4</td>\n",
              "      <td>0.254</td>\n",
              "      <td>36</td>\n",
              "      <td>1</td>\n",
              "    </tr>\n",
              "    <tr>\n",
              "      <th>460</th>\n",
              "      <td>9</td>\n",
              "      <td>120</td>\n",
              "      <td>72</td>\n",
              "      <td>22</td>\n",
              "      <td>56</td>\n",
              "      <td>20.8</td>\n",
              "      <td>0.733</td>\n",
              "      <td>48</td>\n",
              "      <td>0</td>\n",
              "    </tr>\n",
              "    <tr>\n",
              "      <th>181</th>\n",
              "      <td>0</td>\n",
              "      <td>119</td>\n",
              "      <td>64</td>\n",
              "      <td>18</td>\n",
              "      <td>92</td>\n",
              "      <td>34.9</td>\n",
              "      <td>0.725</td>\n",
              "      <td>23</td>\n",
              "      <td>0</td>\n",
              "    </tr>\n",
              "    <tr>\n",
              "      <th>705</th>\n",
              "      <td>6</td>\n",
              "      <td>80</td>\n",
              "      <td>80</td>\n",
              "      <td>36</td>\n",
              "      <td>0</td>\n",
              "      <td>39.8</td>\n",
              "      <td>0.177</td>\n",
              "      <td>28</td>\n",
              "      <td>0</td>\n",
              "    </tr>\n",
              "  </tbody>\n",
              "</table>\n",
              "</div>\n",
              "      <button class=\"colab-df-convert\" onclick=\"convertToInteractive('df-e907a63f-d2da-4450-99c4-a81de2b810ed')\"\n",
              "              title=\"Convert this dataframe to an interactive table.\"\n",
              "              style=\"display:none;\">\n",
              "        \n",
              "  <svg xmlns=\"http://www.w3.org/2000/svg\" height=\"24px\"viewBox=\"0 0 24 24\"\n",
              "       width=\"24px\">\n",
              "    <path d=\"M0 0h24v24H0V0z\" fill=\"none\"/>\n",
              "    <path d=\"M18.56 5.44l.94 2.06.94-2.06 2.06-.94-2.06-.94-.94-2.06-.94 2.06-2.06.94zm-11 1L8.5 8.5l.94-2.06 2.06-.94-2.06-.94L8.5 2.5l-.94 2.06-2.06.94zm10 10l.94 2.06.94-2.06 2.06-.94-2.06-.94-.94-2.06-.94 2.06-2.06.94z\"/><path d=\"M17.41 7.96l-1.37-1.37c-.4-.4-.92-.59-1.43-.59-.52 0-1.04.2-1.43.59L10.3 9.45l-7.72 7.72c-.78.78-.78 2.05 0 2.83L4 21.41c.39.39.9.59 1.41.59.51 0 1.02-.2 1.41-.59l7.78-7.78 2.81-2.81c.8-.78.8-2.07 0-2.86zM5.41 20L4 18.59l7.72-7.72 1.47 1.35L5.41 20z\"/>\n",
              "  </svg>\n",
              "      </button>\n",
              "      \n",
              "  <style>\n",
              "    .colab-df-container {\n",
              "      display:flex;\n",
              "      flex-wrap:wrap;\n",
              "      gap: 12px;\n",
              "    }\n",
              "\n",
              "    .colab-df-convert {\n",
              "      background-color: #E8F0FE;\n",
              "      border: none;\n",
              "      border-radius: 50%;\n",
              "      cursor: pointer;\n",
              "      display: none;\n",
              "      fill: #1967D2;\n",
              "      height: 32px;\n",
              "      padding: 0 0 0 0;\n",
              "      width: 32px;\n",
              "    }\n",
              "\n",
              "    .colab-df-convert:hover {\n",
              "      background-color: #E2EBFA;\n",
              "      box-shadow: 0px 1px 2px rgba(60, 64, 67, 0.3), 0px 1px 3px 1px rgba(60, 64, 67, 0.15);\n",
              "      fill: #174EA6;\n",
              "    }\n",
              "\n",
              "    [theme=dark] .colab-df-convert {\n",
              "      background-color: #3B4455;\n",
              "      fill: #D2E3FC;\n",
              "    }\n",
              "\n",
              "    [theme=dark] .colab-df-convert:hover {\n",
              "      background-color: #434B5C;\n",
              "      box-shadow: 0px 1px 3px 1px rgba(0, 0, 0, 0.15);\n",
              "      filter: drop-shadow(0px 1px 2px rgba(0, 0, 0, 0.3));\n",
              "      fill: #FFFFFF;\n",
              "    }\n",
              "  </style>\n",
              "\n",
              "      <script>\n",
              "        const buttonEl =\n",
              "          document.querySelector('#df-e907a63f-d2da-4450-99c4-a81de2b810ed button.colab-df-convert');\n",
              "        buttonEl.style.display =\n",
              "          google.colab.kernel.accessAllowed ? 'block' : 'none';\n",
              "\n",
              "        async function convertToInteractive(key) {\n",
              "          const element = document.querySelector('#df-e907a63f-d2da-4450-99c4-a81de2b810ed');\n",
              "          const dataTable =\n",
              "            await google.colab.kernel.invokeFunction('convertToInteractive',\n",
              "                                                     [key], {});\n",
              "          if (!dataTable) return;\n",
              "\n",
              "          const docLinkHtml = 'Like what you see? Visit the ' +\n",
              "            '<a target=\"_blank\" href=https://colab.research.google.com/notebooks/data_table.ipynb>data table notebook</a>'\n",
              "            + ' to learn more about interactive tables.';\n",
              "          element.innerHTML = '';\n",
              "          dataTable['output_type'] = 'display_data';\n",
              "          await google.colab.output.renderOutput(dataTable, element);\n",
              "          const docLink = document.createElement('div');\n",
              "          docLink.innerHTML = docLinkHtml;\n",
              "          element.appendChild(docLink);\n",
              "        }\n",
              "      </script>\n",
              "    </div>\n",
              "  </div>\n",
              "  "
            ],
            "text/plain": [
              "     Pregnancies  Glucose  BloodPressure  SkinThickness  Insulin   BMI  \\\n",
              "129            0      105             84              0        0  27.9   \n",
              "322            0      124             70             20        0  27.4   \n",
              "460            9      120             72             22       56  20.8   \n",
              "181            0      119             64             18       92  34.9   \n",
              "705            6       80             80             36        0  39.8   \n",
              "\n",
              "     DiabetesPedigreeFunction  Age  Outcome  \n",
              "129                     0.741   62        1  \n",
              "322                     0.254   36        1  \n",
              "460                     0.733   48        0  \n",
              "181                     0.725   23        0  \n",
              "705                     0.177   28        0  "
            ]
          },
          "execution_count": 5,
          "metadata": {},
          "output_type": "execute_result"
        }
      ],
      "source": [
        "#checking for random data samples\n",
        "diabetes_df.sample(5)"
      ]
    },
    {
      "cell_type": "code",
      "execution_count": null,
      "metadata": {
        "colab": {
          "base_uri": "https://localhost:8080/"
        },
        "id": "zxaBpqKZ36qD",
        "outputId": "0a627ede-5114-4ec0-fc4d-e67e28dea12a"
      },
      "outputs": [
        {
          "data": {
            "text/plain": [
              "Index(['Pregnancies', 'Glucose', 'BloodPressure', 'SkinThickness', 'Insulin',\n",
              "       'BMI', 'DiabetesPedigreeFunction', 'Age', 'Outcome'],\n",
              "      dtype='object')"
            ]
          },
          "execution_count": 6,
          "metadata": {},
          "output_type": "execute_result"
        }
      ],
      "source": [
        "diabetes_df.columns"
      ]
    },
    {
      "cell_type": "code",
      "execution_count": null,
      "metadata": {
        "colab": {
          "base_uri": "https://localhost:8080/"
        },
        "id": "RIoo40o0AtsF",
        "outputId": "010a2d3d-2c9e-4ff4-878d-8ccb0a1c37b6"
      },
      "outputs": [
        {
          "name": "stdout",
          "output_type": "stream",
          "text": [
            "Number of patients with Diabetes : 268\n",
            "Number of patients without Diabetes : 500\n"
          ]
        }
      ],
      "source": [
        "print(f'Number of patients with Diabetes : {len(diabetes_df[diabetes_df[\"Outcome\"]==1])}')\n",
        "print(f'Number of patients without Diabetes : {len(diabetes_df[diabetes_df[\"Outcome\"]==0])}')"
      ]
    },
    {
      "cell_type": "markdown",
      "metadata": {
        "id": "Ge39SZCUP4r4"
      },
      "source": [
        "The data is quite unbalanced given that the number og patients without diabetes is double than the ones with diabetes. This might skew the data in favor of class with higher number of samples. This needs to be balanced later in order for the model to learn the right pattrns from them"
      ]
    },
    {
      "cell_type": "code",
      "execution_count": null,
      "metadata": {
        "colab": {
          "base_uri": "https://localhost:8080/",
          "height": 1000
        },
        "id": "wI6y_yMGPYw8",
        "outputId": "8b838990-262b-4cfd-c59a-6c5682061e04"
      },
      "outputs": [
        {
          "data": {
            "image/png": "[encoded data removed]",
            "text/plain": [
              "<Figure size 432x288 with 1 Axes>"
            ]
          },
          "metadata": {},
          "output_type": "display_data"
        },
        {
          "data": {
            "image/png": "[encoded data removed]",
            "text/plain": [
              "<Figure size 432x288 with 1 Axes>"
            ]
          },
          "metadata": {},
          "output_type": "display_data"
        },
        {
          "data": {
            "image/png": "[encoded data removed]",
            "text/plain": [
              "<Figure size 432x288 with 1 Axes>"
            ]
          },
          "metadata": {},
          "output_type": "display_data"
        },
        {
          "data": {
            "image/png": "[encoded data removed]",
            "text/plain": [
              "<Figure size 432x288 with 1 Axes>"
            ]
          },
          "metadata": {},
          "output_type": "display_data"
        },
        {
          "data": {
            "image/png": "[encoded data removed]",
            "text/plain": [
              "<Figure size 432x288 with 1 Axes>"
            ]
          },
          "metadata": {},
          "output_type": "display_data"
        },
        {
          "data": {
            "image/png": "[encoded data removed]",
            "text/plain": [
              "<Figure size 432x288 with 1 Axes>"
            ]
          },
          "metadata": {},
          "output_type": "display_data"
        },
        {
          "data": {
            "image/png": "[encoded data removed]",
            "text/plain": [
              "<Figure size 432x288 with 1 Axes>"
            ]
          },
          "metadata": {},
          "output_type": "display_data"
        },
        {
          "data": {
            "image/png": "[encoded data removed]",
            "text/plain": [
              "<Figure size 432x288 with 1 Axes>"
            ]
          },
          "metadata": {},
          "output_type": "display_data"
        }
      ],
      "source": [
        "for i in range (len(diabetes_df.columns[:-1])):\n",
        "  label = diabetes_df.columns[i]\n",
        "  plt.hist(diabetes_df[diabetes_df[\"Outcome\"]==1][label], color = 'red', label = 'Diabetes', density = True, bins=20, alpha=0.7)\n",
        "  plt.hist(diabetes_df[diabetes_df[\"Outcome\"]==0][label], color = 'green' , label = 'No Diabetes', density = True, bins=20, alpha=0.7)\n",
        "  plt.title(label)\n",
        "  plt.xlabel(label)\n",
        "  plt.ylabel('Probability')\n",
        "  plt.legend()\n",
        "  plt.show()"
      ]
    },
    {
      "cell_type": "code",
      "execution_count": null,
      "metadata": {
        "id": "Ix8PsfrL9Qje"
      },
      "outputs": [],
      "source": [
        "X = diabetes_df[diabetes_df.columns[:-1]].values\n",
        "Y = diabetes_df[diabetes_df.columns[-1]].values"
      ]
    },
    {
      "cell_type": "code",
      "execution_count": null,
      "metadata": {
        "colab": {
          "base_uri": "https://localhost:8080/"
        },
        "id": "-gW0imppC_yZ",
        "outputId": "fa6c0fa7-6a27-44ef-a418-6a92409e0b28"
      },
      "outputs": [
        {
          "data": {
            "text/plain": [
              "array([[  6.   , 148.   ,  72.   , ...,  33.6  ,   0.627,  50.   ],\n",
              "       [  1.   ,  85.   ,  66.   , ...,  26.6  ,   0.351,  31.   ],\n",
              "       [  8.   , 183.   ,  64.   , ...,  23.3  ,   0.672,  32.   ],\n",
              "       ...,\n",
              "       [  5.   , 121.   ,  72.   , ...,  26.2  ,   0.245,  30.   ],\n",
              "       [  1.   , 126.   ,  60.   , ...,  30.1  ,   0.349,  47.   ],\n",
              "       [  1.   ,  93.   ,  70.   , ...,  30.4  ,   0.315,  23.   ]])"
            ]
          },
          "execution_count": 10,
          "metadata": {},
          "output_type": "execute_result"
        }
      ],
      "source": [
        "X"
      ]
    },
    {
      "cell_type": "code",
      "execution_count": null,
      "metadata": {
        "colab": {
          "base_uri": "https://localhost:8080/"
        },
        "id": "NYR4eU_9DMMt",
        "outputId": "d302df1d-6b31-4e56-c935-2d0b8e567558"
      },
      "outputs": [
        {
          "data": {
            "text/plain": [
              "array([1, 0, 1, 0, 1, 0, 1, 0, 1, 1, 0, 1, 0, 1, 1, 1, 1, 1, 0, 1, 0, 0,\n",
              "       1, 1, 1, 1, 1, 0, 0, 0, 0, 1, 0, 0, 0, 0, 0, 1, 1, 1, 0, 0, 0, 1,\n",
              "       0, 1, 0, 0, 1, 0, 0, 0, 0, 1, 0, 0, 1, 0, 0, 0, 0, 1, 0, 0, 1, 0,\n",
              "       1, 0, 0, 0, 1, 0, 1, 0, 0, 0, 0, 0, 1, 0, 0, 0, 0, 0, 1, 0, 0, 0,\n",
              "       1, 0, 0, 0, 0, 1, 0, 0, 0, 0, 0, 1, 1, 0, 0, 0, 0, 0, 0, 0, 0, 1,\n",
              "       1, 1, 0, 0, 1, 1, 1, 0, 0, 0, 1, 0, 0, 0, 1, 1, 0, 0, 1, 1, 1, 1,\n",
              "       1, 0, 0, 0, 0, 0, 0, 0, 0, 0, 0, 1, 0, 0, 0, 0, 0, 0, 0, 0, 1, 0,\n",
              "       1, 1, 0, 0, 0, 1, 0, 0, 0, 0, 1, 1, 0, 0, 0, 0, 1, 1, 0, 0, 0, 1,\n",
              "       0, 1, 0, 1, 0, 0, 0, 0, 0, 1, 1, 1, 1, 1, 0, 0, 1, 1, 0, 1, 0, 1,\n",
              "       1, 1, 0, 0, 0, 0, 0, 0, 1, 1, 0, 1, 0, 0, 0, 1, 1, 1, 1, 0, 1, 1,\n",
              "       1, 1, 0, 0, 0, 0, 0, 1, 0, 0, 1, 1, 0, 0, 0, 1, 1, 1, 1, 0, 0, 0,\n",
              "       1, 1, 0, 1, 0, 0, 0, 0, 0, 0, 0, 0, 1, 1, 0, 0, 0, 1, 0, 1, 0, 0,\n",
              "       1, 0, 1, 0, 0, 1, 1, 0, 0, 0, 0, 0, 1, 0, 0, 0, 1, 0, 0, 1, 1, 0,\n",
              "       0, 1, 0, 0, 0, 1, 1, 1, 0, 0, 1, 0, 1, 0, 1, 1, 0, 1, 0, 0, 1, 0,\n",
              "       1, 1, 0, 0, 1, 0, 1, 0, 0, 1, 0, 1, 0, 1, 1, 1, 0, 0, 1, 0, 1, 0,\n",
              "       0, 0, 1, 0, 0, 0, 0, 1, 1, 1, 0, 0, 0, 0, 0, 0, 0, 0, 0, 1, 0, 0,\n",
              "       0, 0, 0, 1, 1, 1, 0, 1, 1, 0, 0, 1, 0, 0, 1, 0, 0, 1, 1, 0, 0, 0,\n",
              "       0, 1, 0, 0, 1, 0, 0, 0, 0, 0, 0, 0, 1, 1, 1, 0, 0, 1, 0, 0, 1, 0,\n",
              "       0, 1, 0, 1, 1, 0, 1, 0, 1, 0, 1, 0, 1, 1, 0, 0, 0, 0, 1, 1, 0, 1,\n",
              "       0, 1, 0, 0, 0, 0, 1, 1, 0, 1, 0, 1, 0, 0, 0, 0, 0, 1, 0, 0, 0, 0,\n",
              "       1, 0, 0, 1, 1, 1, 0, 0, 1, 0, 0, 1, 0, 0, 0, 1, 0, 0, 1, 0, 0, 0,\n",
              "       0, 0, 0, 0, 0, 0, 1, 0, 0, 0, 0, 0, 0, 0, 1, 0, 0, 0, 1, 0, 0, 0,\n",
              "       1, 1, 0, 0, 0, 0, 0, 0, 0, 1, 0, 0, 0, 0, 1, 0, 0, 0, 1, 0, 0, 0,\n",
              "       1, 0, 0, 0, 1, 0, 0, 0, 0, 1, 1, 0, 0, 0, 0, 0, 0, 1, 0, 0, 0, 0,\n",
              "       0, 0, 0, 0, 0, 0, 0, 1, 0, 0, 0, 1, 1, 1, 1, 0, 0, 1, 1, 0, 0, 0,\n",
              "       0, 0, 0, 0, 0, 0, 0, 0, 0, 0, 1, 1, 0, 0, 0, 0, 0, 0, 0, 1, 0, 0,\n",
              "       0, 0, 0, 0, 0, 1, 0, 1, 1, 0, 0, 0, 1, 0, 1, 0, 1, 0, 1, 0, 1, 0,\n",
              "       0, 1, 0, 0, 1, 0, 0, 0, 0, 1, 1, 0, 1, 0, 0, 0, 0, 1, 1, 0, 1, 0,\n",
              "       0, 0, 1, 1, 0, 0, 0, 0, 0, 0, 0, 0, 0, 0, 1, 0, 0, 0, 0, 1, 0, 0,\n",
              "       1, 0, 0, 0, 1, 0, 0, 0, 1, 1, 1, 0, 0, 0, 0, 0, 0, 1, 0, 0, 0, 1,\n",
              "       0, 1, 1, 1, 1, 0, 1, 1, 0, 0, 0, 0, 0, 0, 0, 1, 1, 0, 1, 0, 0, 1,\n",
              "       0, 1, 0, 0, 0, 0, 0, 1, 0, 1, 0, 1, 0, 1, 1, 0, 0, 0, 0, 1, 1, 0,\n",
              "       0, 0, 1, 0, 1, 1, 0, 0, 1, 0, 0, 1, 1, 0, 0, 1, 0, 0, 1, 0, 0, 0,\n",
              "       0, 0, 0, 0, 1, 1, 1, 0, 0, 0, 0, 0, 0, 1, 1, 0, 0, 1, 0, 0, 1, 0,\n",
              "       1, 1, 1, 0, 0, 1, 1, 1, 0, 1, 0, 1, 0, 1, 0, 0, 0, 0, 1, 0])"
            ]
          },
          "execution_count": 11,
          "metadata": {},
          "output_type": "execute_result"
        }
      ],
      "source": [
        "Y"
      ]
    },
    {
      "cell_type": "markdown",
      "metadata": {
        "id": "1XtVsJAOQWpB"
      },
      "source": [
        "## Training and evaluating model withing scaling and balancing the data"
      ]
    },
    {
      "cell_type": "code",
      "execution_count": null,
      "metadata": {
        "id": "WTW0sjWbDNSc"
      },
      "outputs": [],
      "source": [
        "X_temp, X_test, y_temp, y_test = train_test_split(X,Y, test_size=0.2, random_state=0)\n",
        "X_train, X_valid, y_train, y_valid = train_test_split(X_temp,y_temp, test_size=0.2, random_state=0)"
      ]
    },
    {
      "cell_type": "code",
      "execution_count": null,
      "metadata": {
        "id": "uQQc1e2cDrZa"
      },
      "outputs": [],
      "source": [
        "model = tf.keras.Sequential([\n",
        "    tf.keras.layers.Dense(16, activation='relu'),\n",
        "    tf.keras.layers.Dense(16, activation='relu'),\n",
        "    tf.keras.layers.Dense(1, activation=\"sigmoid\")\n",
        "])"
      ]
    },
    {
      "cell_type": "code",
      "execution_count": null,
      "metadata": {
        "id": "x0bg2IuAEdVj"
      },
      "outputs": [],
      "source": [
        "model.compile(optimizer=tf.keras.optimizers.Adam(learning_rate=0.001),\n",
        "              loss=tf.keras.losses.BinaryCrossentropy(),\n",
        "              metrics=['accuracy'])"
      ]
    },
    {
      "cell_type": "code",
      "execution_count": null,
      "metadata": {
        "colab": {
          "base_uri": "https://localhost:8080/"
        },
        "id": "sv1UWDO7FZot",
        "outputId": "3cf0ab6b-12d6-449e-c03f-0ea61d417a9a"
      },
      "outputs": [
        {
          "name": "stdout",
          "output_type": "stream",
          "text": [
            "Epoch 1/20\n",
            "31/31 [==============================] - 1s 8ms/step - loss: 1.9919 - accuracy: 0.5377 - val_loss: 2.2181 - val_accuracy: 0.5285\n",
            "Epoch 2/20\n",
            "31/31 [==============================] - 0s 2ms/step - loss: 1.5548 - accuracy: 0.5438 - val_loss: 1.6707 - val_accuracy: 0.5447\n",
            "Epoch 3/20\n",
            "31/31 [==============================] - 0s 2ms/step - loss: 1.2363 - accuracy: 0.5906 - val_loss: 1.3864 - val_accuracy: 0.4797\n",
            "Epoch 4/20\n",
            "31/31 [==============================] - 0s 2ms/step - loss: 1.0776 - accuracy: 0.5845 - val_loss: 1.0996 - val_accuracy: 0.6098\n",
            "Epoch 5/20\n",
            "31/31 [==============================] - 0s 2ms/step - loss: 1.0502 - accuracy: 0.6477 - val_loss: 1.2947 - val_accuracy: 0.4797\n",
            "Epoch 6/20\n",
            "31/31 [==============================] - 0s 3ms/step - loss: 0.9644 - accuracy: 0.6049 - val_loss: 0.9231 - val_accuracy: 0.6341\n",
            "Epoch 7/20\n",
            "31/31 [==============================] - 0s 3ms/step - loss: 0.9125 - accuracy: 0.6171 - val_loss: 0.8181 - val_accuracy: 0.6504\n",
            "Epoch 8/20\n",
            "31/31 [==============================] - 0s 4ms/step - loss: 0.8683 - accuracy: 0.6578 - val_loss: 0.8671 - val_accuracy: 0.6016\n",
            "Epoch 9/20\n",
            "31/31 [==============================] - 0s 5ms/step - loss: 0.8648 - accuracy: 0.6375 - val_loss: 0.7628 - val_accuracy: 0.6667\n",
            "Epoch 10/20\n",
            "31/31 [==============================] - 0s 5ms/step - loss: 0.8157 - accuracy: 0.6456 - val_loss: 0.7967 - val_accuracy: 0.6098\n",
            "Epoch 11/20\n",
            "31/31 [==============================] - 0s 4ms/step - loss: 0.8909 - accuracy: 0.6314 - val_loss: 0.7825 - val_accuracy: 0.6341\n",
            "Epoch 12/20\n",
            "31/31 [==============================] - 0s 7ms/step - loss: 0.8119 - accuracy: 0.6517 - val_loss: 0.6969 - val_accuracy: 0.6748\n",
            "Epoch 13/20\n",
            "31/31 [==============================] - 0s 4ms/step - loss: 0.7985 - accuracy: 0.6578 - val_loss: 0.7627 - val_accuracy: 0.6585\n",
            "Epoch 14/20\n",
            "31/31 [==============================] - 0s 8ms/step - loss: 0.7729 - accuracy: 0.6517 - val_loss: 0.7909 - val_accuracy: 0.6423\n",
            "Epoch 15/20\n",
            "31/31 [==============================] - 0s 5ms/step - loss: 0.7944 - accuracy: 0.6680 - val_loss: 0.8514 - val_accuracy: 0.6911\n",
            "Epoch 16/20\n",
            "31/31 [==============================] - 0s 4ms/step - loss: 0.7665 - accuracy: 0.6436 - val_loss: 0.7145 - val_accuracy: 0.6748\n",
            "Epoch 17/20\n",
            "31/31 [==============================] - 0s 4ms/step - loss: 0.7083 - accuracy: 0.6721 - val_loss: 0.6920 - val_accuracy: 0.6748\n",
            "Epoch 18/20\n",
            "31/31 [==============================] - 0s 5ms/step - loss: 0.7146 - accuracy: 0.6823 - val_loss: 0.7295 - val_accuracy: 0.6829\n",
            "Epoch 19/20\n",
            "31/31 [==============================] - 0s 9ms/step - loss: 0.7529 - accuracy: 0.6517 - val_loss: 0.7830 - val_accuracy: 0.6585\n",
            "Epoch 20/20\n",
            "31/31 [==============================] - 0s 8ms/step - loss: 0.7527 - accuracy: 0.6782 - val_loss: 0.7713 - val_accuracy: 0.6504\n"
          ]
        },
        {
          "data": {
            "text/plain": [
              "<keras.callbacks.History at 0x7fed365f9eb0>"
            ]
          },
          "execution_count": 15,
          "metadata": {},
          "output_type": "execute_result"
        }
      ],
      "source": [
        "model.fit(X_train, y_train, batch_size=16, epochs=20, validation_data=(X_valid, y_valid))"
      ]
    },
    {
      "cell_type": "code",
      "execution_count": null,
      "metadata": {
        "colab": {
          "base_uri": "https://localhost:8080/"
        },
        "id": "l8qNM9g8FbrT",
        "outputId": "1d0f31a9-c4ec-4e42-fa2a-495dd0e48285"
      },
      "outputs": [
        {
          "name": "stdout",
          "output_type": "stream",
          "text": [
            "5/5 [==============================] - 0s 4ms/step - loss: 0.6471 - accuracy: 0.7338\n"
          ]
        },
        {
          "data": {
            "text/plain": [
              "[0.6471028923988342, 0.7337662577629089]"
            ]
          },
          "execution_count": 16,
          "metadata": {},
          "output_type": "execute_result"
        }
      ],
      "source": [
        "model.evaluate(X_test, y_test)"
      ]
    },
    {
      "cell_type": "markdown",
      "metadata": {
        "id": "esu9FFB3LYTe"
      },
      "source": [
        "## Model training after normalizing and oversampling the data\n"
      ]
    },
    {
      "cell_type": "code",
      "execution_count": null,
      "metadata": {
        "id": "kUnTDpigHHNX"
      },
      "outputs": [],
      "source": [
        "# Scaling the data to normalize the features into similar range\n",
        "scaler = StandardScaler()\n",
        "X = scaler.fit_transform(X)\n",
        "data = np.hstack((X, np.reshape(Y, (-1, 1))))\n",
        "transformed_df = pd.DataFrame(data, columns=diabetes_df.columns)"
      ]
    },
    {
      "cell_type": "code",
      "execution_count": null,
      "metadata": {
        "colab": {
          "base_uri": "https://localhost:8080/",
          "height": 1000
        },
        "id": "5ZE_VhXxIEk5",
        "outputId": "9a93357b-1cd0-4ebd-9572-dcac02597281"
      },
      "outputs": [
        {
          "data": {
            "image/png": "[encoded data removed]",
            "text/plain": [
              "<Figure size 432x288 with 1 Axes>"
            ]
          },
          "metadata": {},
          "output_type": "display_data"
        },
        {
          "data": {
            "image/png": "[encoded data removed]",
            "text/plain": [
              "<Figure size 432x288 with 1 Axes>"
            ]
          },
          "metadata": {},
          "output_type": "display_data"
        },
        {
          "data": {
            "image/png": "[encoded data removed]",
            "text/plain": [
              "<Figure size 432x288 with 1 Axes>"
            ]
          },
          "metadata": {},
          "output_type": "display_data"
        },
        {
          "data": {
            "image/png": "[encoded data removed]",
            "text/plain": [
              "<Figure size 432x288 with 1 Axes>"
            ]
          },
          "metadata": {},
          "output_type": "display_data"
        },
        {
          "data": {
            "image/png": "[encoded data removed]",
            "text/plain": [
              "<Figure size 432x288 with 1 Axes>"
            ]
          },
          "metadata": {},
          "output_type": "display_data"
        },
        {
          "data": {
            "image/png": "[encoded data removed]",
            "text/plain": [
              "<Figure size 432x288 with 1 Axes>"
            ]
          },
          "metadata": {},
          "output_type": "display_data"
        },
        {
          "data": {
            "image/png": "[encoded data removed]",
            "text/plain": [
              "<Figure size 432x288 with 1 Axes>"
            ]
          },
          "metadata": {},
          "output_type": "display_data"
        },
        {
          "data": {
            "image/png": "[encoded data removed]",
            "text/plain": [
              "<Figure size 432x288 with 1 Axes>"
            ]
          },
          "metadata": {},
          "output_type": "display_data"
        }
      ],
      "source": [
        "for i in range (len(diabetes_df.columns[:-1])):\n",
        "  label = diabetes_df.columns[i]\n",
        "  plt.hist(transformed_df[transformed_df[\"Outcome\"]==1][label], color = 'red', label = 'Diabetes', density = True, bins=20, alpha=0.7)\n",
        "  plt.hist(transformed_df[transformed_df[\"Outcome\"]==0][label], color = 'green' , label = 'No Diabetes', density = True, bins=20, alpha=0.7)\n",
        "  plt.title(label)\n",
        "  plt.xlabel(label)\n",
        "  plt.ylabel('Probability')\n",
        "  plt.legend()\n",
        "  plt.show()"
      ]
    },
    {
      "cell_type": "code",
      "execution_count": null,
      "metadata": {
        "id": "7nDBEOmDLl1n"
      },
      "outputs": [],
      "source": [
        "# Oversampling the data to make the number of samples balanced for both classes\n",
        "over_sampler = RandomOverSampler()\n",
        "X, Y = over_sampler.fit_resample(X,Y)\n",
        "data = np.hstack((X, np.reshape(Y, (-1, 1))))\n",
        "transformed_df = pd.DataFrame(data, columns=diabetes_df.columns)"
      ]
    },
    {
      "cell_type": "code",
      "execution_count": null,
      "metadata": {
        "colab": {
          "base_uri": "https://localhost:8080/"
        },
        "id": "GhVgXL-tM40_",
        "outputId": "f9d26da5-8791-4a7c-f1a9-2a72df6156f4"
      },
      "outputs": [
        {
          "data": {
            "text/plain": [
              "(array([[ 0.63994726,  0.84832379,  0.14964075, ...,  0.20401277,\n",
              "          0.46849198,  1.4259954 ],\n",
              "        [-0.84488505, -1.12339636, -0.16054575, ..., -0.68442195,\n",
              "         -0.36506078, -0.19067191],\n",
              "        [ 1.23388019,  1.94372388, -0.26394125, ..., -1.10325546,\n",
              "          0.60439732, -0.10558415],\n",
              "        ...,\n",
              "        [ 2.12477957,  0.53535234,  0.25303625, ...,  0.52131088,\n",
              "          0.25708367,  1.4259954 ],\n",
              "        [-0.54791859, -0.59134489,  0.87340925, ...,  1.71435179,\n",
              "         -1.04156736, -0.87137393],\n",
              "        [ 0.3429808 , -0.27837344, -0.16054575, ...,  0.7370736 ,\n",
              "         -0.63687146,  0.66020563]]), 1000)"
            ]
          },
          "execution_count": 20,
          "metadata": {},
          "output_type": "execute_result"
        }
      ],
      "source": [
        "X , len(X)"
      ]
    },
    {
      "cell_type": "code",
      "execution_count": null,
      "metadata": {
        "colab": {
          "base_uri": "https://localhost:8080/"
        },
        "id": "RYUsk0w1M51i",
        "outputId": "fbcf78bf-b96a-495e-b398-a1c6c6bb2607"
      },
      "outputs": [
        {
          "data": {
            "text/plain": [
              "(array([1, 0, 1, 0, 1, 0, 1, 0, 1, 1, 0, 1, 0, 1, 1, 1, 1, 1, 0, 1, 0, 0,\n",
              "        1, 1, 1, 1, 1, 0, 0, 0, 0, 1, 0, 0, 0, 0, 0, 1, 1, 1, 0, 0, 0, 1,\n",
              "        0, 1, 0, 0, 1, 0, 0, 0, 0, 1, 0, 0, 1, 0, 0, 0, 0, 1, 0, 0, 1, 0,\n",
              "        1, 0, 0, 0, 1, 0, 1, 0, 0, 0, 0, 0, 1, 0, 0, 0, 0, 0, 1, 0, 0, 0,\n",
              "        1, 0, 0, 0, 0, 1, 0, 0, 0, 0, 0, 1, 1, 0, 0, 0, 0, 0, 0, 0, 0, 1,\n",
              "        1, 1, 0, 0, 1, 1, 1, 0, 0, 0, 1, 0, 0, 0, 1, 1, 0, 0, 1, 1, 1, 1,\n",
              "        1, 0, 0, 0, 0, 0, 0, 0, 0, 0, 0, 1, 0, 0, 0, 0, 0, 0, 0, 0, 1, 0,\n",
              "        1, 1, 0, 0, 0, 1, 0, 0, 0, 0, 1, 1, 0, 0, 0, 0, 1, 1, 0, 0, 0, 1,\n",
              "        0, 1, 0, 1, 0, 0, 0, 0, 0, 1, 1, 1, 1, 1, 0, 0, 1, 1, 0, 1, 0, 1,\n",
              "        1, 1, 0, 0, 0, 0, 0, 0, 1, 1, 0, 1, 0, 0, 0, 1, 1, 1, 1, 0, 1, 1,\n",
              "        1, 1, 0, 0, 0, 0, 0, 1, 0, 0, 1, 1, 0, 0, 0, 1, 1, 1, 1, 0, 0, 0,\n",
              "        1, 1, 0, 1, 0, 0, 0, 0, 0, 0, 0, 0, 1, 1, 0, 0, 0, 1, 0, 1, 0, 0,\n",
              "        1, 0, 1, 0, 0, 1, 1, 0, 0, 0, 0, 0, 1, 0, 0, 0, 1, 0, 0, 1, 1, 0,\n",
              "        0, 1, 0, 0, 0, 1, 1, 1, 0, 0, 1, 0, 1, 0, 1, 1, 0, 1, 0, 0, 1, 0,\n",
              "        1, 1, 0, 0, 1, 0, 1, 0, 0, 1, 0, 1, 0, 1, 1, 1, 0, 0, 1, 0, 1, 0,\n",
              "        0, 0, 1, 0, 0, 0, 0, 1, 1, 1, 0, 0, 0, 0, 0, 0, 0, 0, 0, 1, 0, 0,\n",
              "        0, 0, 0, 1, 1, 1, 0, 1, 1, 0, 0, 1, 0, 0, 1, 0, 0, 1, 1, 0, 0, 0,\n",
              "        0, 1, 0, 0, 1, 0, 0, 0, 0, 0, 0, 0, 1, 1, 1, 0, 0, 1, 0, 0, 1, 0,\n",
              "        0, 1, 0, 1, 1, 0, 1, 0, 1, 0, 1, 0, 1, 1, 0, 0, 0, 0, 1, 1, 0, 1,\n",
              "        0, 1, 0, 0, 0, 0, 1, 1, 0, 1, 0, 1, 0, 0, 0, 0, 0, 1, 0, 0, 0, 0,\n",
              "        1, 0, 0, 1, 1, 1, 0, 0, 1, 0, 0, 1, 0, 0, 0, 1, 0, 0, 1, 0, 0, 0,\n",
              "        0, 0, 0, 0, 0, 0, 1, 0, 0, 0, 0, 0, 0, 0, 1, 0, 0, 0, 1, 0, 0, 0,\n",
              "        1, 1, 0, 0, 0, 0, 0, 0, 0, 1, 0, 0, 0, 0, 1, 0, 0, 0, 1, 0, 0, 0,\n",
              "        1, 0, 0, 0, 1, 0, 0, 0, 0, 1, 1, 0, 0, 0, 0, 0, 0, 1, 0, 0, 0, 0,\n",
              "        0, 0, 0, 0, 0, 0, 0, 1, 0, 0, 0, 1, 1, 1, 1, 0, 0, 1, 1, 0, 0, 0,\n",
              "        0, 0, 0, 0, 0, 0, 0, 0, 0, 0, 1, 1, 0, 0, 0, 0, 0, 0, 0, 1, 0, 0,\n",
              "        0, 0, 0, 0, 0, 1, 0, 1, 1, 0, 0, 0, 1, 0, 1, 0, 1, 0, 1, 0, 1, 0,\n",
              "        0, 1, 0, 0, 1, 0, 0, 0, 0, 1, 1, 0, 1, 0, 0, 0, 0, 1, 1, 0, 1, 0,\n",
              "        0, 0, 1, 1, 0, 0, 0, 0, 0, 0, 0, 0, 0, 0, 1, 0, 0, 0, 0, 1, 0, 0,\n",
              "        1, 0, 0, 0, 1, 0, 0, 0, 1, 1, 1, 0, 0, 0, 0, 0, 0, 1, 0, 0, 0, 1,\n",
              "        0, 1, 1, 1, 1, 0, 1, 1, 0, 0, 0, 0, 0, 0, 0, 1, 1, 0, 1, 0, 0, 1,\n",
              "        0, 1, 0, 0, 0, 0, 0, 1, 0, 1, 0, 1, 0, 1, 1, 0, 0, 0, 0, 1, 1, 0,\n",
              "        0, 0, 1, 0, 1, 1, 0, 0, 1, 0, 0, 1, 1, 0, 0, 1, 0, 0, 1, 0, 0, 0,\n",
              "        0, 0, 0, 0, 1, 1, 1, 0, 0, 0, 0, 0, 0, 1, 1, 0, 0, 1, 0, 0, 1, 0,\n",
              "        1, 1, 1, 0, 0, 1, 1, 1, 0, 1, 0, 1, 0, 1, 0, 0, 0, 0, 1, 0, 1, 1,\n",
              "        1, 1, 1, 1, 1, 1, 1, 1, 1, 1, 1, 1, 1, 1, 1, 1, 1, 1, 1, 1, 1, 1,\n",
              "        1, 1, 1, 1, 1, 1, 1, 1, 1, 1, 1, 1, 1, 1, 1, 1, 1, 1, 1, 1, 1, 1,\n",
              "        1, 1, 1, 1, 1, 1, 1, 1, 1, 1, 1, 1, 1, 1, 1, 1, 1, 1, 1, 1, 1, 1,\n",
              "        1, 1, 1, 1, 1, 1, 1, 1, 1, 1, 1, 1, 1, 1, 1, 1, 1, 1, 1, 1, 1, 1,\n",
              "        1, 1, 1, 1, 1, 1, 1, 1, 1, 1, 1, 1, 1, 1, 1, 1, 1, 1, 1, 1, 1, 1,\n",
              "        1, 1, 1, 1, 1, 1, 1, 1, 1, 1, 1, 1, 1, 1, 1, 1, 1, 1, 1, 1, 1, 1,\n",
              "        1, 1, 1, 1, 1, 1, 1, 1, 1, 1, 1, 1, 1, 1, 1, 1, 1, 1, 1, 1, 1, 1,\n",
              "        1, 1, 1, 1, 1, 1, 1, 1, 1, 1, 1, 1, 1, 1, 1, 1, 1, 1, 1, 1, 1, 1,\n",
              "        1, 1, 1, 1, 1, 1, 1, 1, 1, 1, 1, 1, 1, 1, 1, 1, 1, 1, 1, 1, 1, 1,\n",
              "        1, 1, 1, 1, 1, 1, 1, 1, 1, 1, 1, 1, 1, 1, 1, 1, 1, 1, 1, 1, 1, 1,\n",
              "        1, 1, 1, 1, 1, 1, 1, 1, 1, 1]), 1000)"
            ]
          },
          "execution_count": 21,
          "metadata": {},
          "output_type": "execute_result"
        }
      ],
      "source": [
        "Y, len(Y)"
      ]
    },
    {
      "cell_type": "code",
      "execution_count": null,
      "metadata": {
        "colab": {
          "base_uri": "https://localhost:8080/"
        },
        "id": "cqBT_0ZoMv8O",
        "outputId": "4d0a5f3c-3726-455c-bcf0-efd2b4eb07c0"
      },
      "outputs": [
        {
          "name": "stdout",
          "output_type": "stream",
          "text": [
            "Number of patients with Diabetes : 500\n",
            "Number of patients without Diabetes : 500\n"
          ]
        }
      ],
      "source": [
        "print(f'Number of patients with Diabetes : {len(transformed_df[transformed_df[\"Outcome\"]==1])}')\n",
        "print(f'Number of patients without Diabetes : {len(transformed_df[transformed_df[\"Outcome\"]==0])}')"
      ]
    },
    {
      "cell_type": "code",
      "execution_count": 35,
      "metadata": {
        "id": "blki0y3SGf5w"
      },
      "outputs": [],
      "source": [
        "X_temp, X_test, y_temp, y_test = train_test_split(X,Y, test_size=0.2, random_state=0)\n",
        "X_train, X_valid, y_train, y_valid = train_test_split(X_temp,y_temp, test_size=0.2, random_state=0)"
      ]
    },
    {
      "cell_type": "code",
      "execution_count": 36,
      "metadata": {
        "id": "6ORv-FE6JdRn"
      },
      "outputs": [],
      "source": [
        "model = tf.keras.Sequential([\n",
        "    tf.keras.layers.Dense(16, activation='relu'),\n",
        "    tf.keras.layers.Dense(16, activation='relu'),\n",
        "    tf.keras.layers.Dense(1, activation=\"sigmoid\")\n",
        "])"
      ]
    },
    {
      "cell_type": "code",
      "execution_count": 37,
      "metadata": {
        "id": "B_MXpInkJdF4"
      },
      "outputs": [],
      "source": [
        "model.compile(optimizer=tf.keras.optimizers.Adam(learning_rate=0.001),\n",
        "              loss=tf.keras.losses.BinaryCrossentropy(),\n",
        "              metrics=['accuracy'])"
      ]
    },
    {
      "cell_type": "code",
      "execution_count": 38,
      "metadata": {
        "colab": {
          "base_uri": "https://localhost:8080/"
        },
        "id": "TaNcSZReJdCg",
        "outputId": "062295a4-d236-4fb7-8864-edd515a41cca"
      },
      "outputs": [
        {
          "name": "stdout",
          "output_type": "stream",
          "text": [
            "Epoch 1/20\n",
            "40/40 [==============================] - 1s 5ms/step - loss: 0.7580 - accuracy: 0.4641 - val_loss: 0.6911 - val_accuracy: 0.5875\n",
            "Epoch 2/20\n",
            "40/40 [==============================] - 0s 2ms/step - loss: 0.6941 - accuracy: 0.5391 - val_loss: 0.6373 - val_accuracy: 0.7188\n",
            "Epoch 3/20\n",
            "40/40 [==============================] - 0s 2ms/step - loss: 0.6563 - accuracy: 0.6297 - val_loss: 0.6052 - val_accuracy: 0.7437\n",
            "Epoch 4/20\n",
            "40/40 [==============================] - 0s 2ms/step - loss: 0.6287 - accuracy: 0.6922 - val_loss: 0.5792 - val_accuracy: 0.7375\n",
            "Epoch 5/20\n",
            "40/40 [==============================] - 0s 2ms/step - loss: 0.6037 - accuracy: 0.7312 - val_loss: 0.5563 - val_accuracy: 0.7688\n",
            "Epoch 6/20\n",
            "40/40 [==============================] - 0s 2ms/step - loss: 0.5778 - accuracy: 0.7312 - val_loss: 0.5301 - val_accuracy: 0.7937\n",
            "Epoch 7/20\n",
            "40/40 [==============================] - 0s 2ms/step - loss: 0.5513 - accuracy: 0.7453 - val_loss: 0.5093 - val_accuracy: 0.8000\n",
            "Epoch 8/20\n",
            "40/40 [==============================] - 0s 2ms/step - loss: 0.5327 - accuracy: 0.7375 - val_loss: 0.4974 - val_accuracy: 0.7875\n",
            "Epoch 9/20\n",
            "40/40 [==============================] - 0s 2ms/step - loss: 0.5195 - accuracy: 0.7437 - val_loss: 0.4909 - val_accuracy: 0.7875\n",
            "Epoch 10/20\n",
            "40/40 [==============================] - 0s 2ms/step - loss: 0.5097 - accuracy: 0.7453 - val_loss: 0.4843 - val_accuracy: 0.7812\n",
            "Epoch 11/20\n",
            "40/40 [==============================] - 0s 2ms/step - loss: 0.5030 - accuracy: 0.7531 - val_loss: 0.4826 - val_accuracy: 0.7937\n",
            "Epoch 12/20\n",
            "40/40 [==============================] - 0s 2ms/step - loss: 0.4974 - accuracy: 0.7578 - val_loss: 0.4832 - val_accuracy: 0.7875\n",
            "Epoch 13/20\n",
            "40/40 [==============================] - 0s 2ms/step - loss: 0.4936 - accuracy: 0.7484 - val_loss: 0.4814 - val_accuracy: 0.7875\n",
            "Epoch 14/20\n",
            "40/40 [==============================] - 0s 2ms/step - loss: 0.4894 - accuracy: 0.7625 - val_loss: 0.4812 - val_accuracy: 0.7875\n",
            "Epoch 15/20\n",
            "40/40 [==============================] - 0s 2ms/step - loss: 0.4857 - accuracy: 0.7672 - val_loss: 0.4795 - val_accuracy: 0.7812\n",
            "Epoch 16/20\n",
            "40/40 [==============================] - 0s 2ms/step - loss: 0.4832 - accuracy: 0.7672 - val_loss: 0.4793 - val_accuracy: 0.7875\n",
            "Epoch 17/20\n",
            "40/40 [==============================] - 0s 2ms/step - loss: 0.4804 - accuracy: 0.7656 - val_loss: 0.4802 - val_accuracy: 0.7875\n",
            "Epoch 18/20\n",
            "40/40 [==============================] - 0s 2ms/step - loss: 0.4776 - accuracy: 0.7703 - val_loss: 0.4821 - val_accuracy: 0.7875\n",
            "Epoch 19/20\n",
            "40/40 [==============================] - 0s 2ms/step - loss: 0.4750 - accuracy: 0.7641 - val_loss: 0.4774 - val_accuracy: 0.7875\n",
            "Epoch 20/20\n",
            "40/40 [==============================] - 0s 2ms/step - loss: 0.4722 - accuracy: 0.7781 - val_loss: 0.4805 - val_accuracy: 0.7875\n"
          ]
        },
        {
          "data": {
            "text/plain": [
              "<keras.callbacks.History at 0x7fed31c3ec10>"
            ]
          },
          "execution_count": 38,
          "metadata": {},
          "output_type": "execute_result"
        }
      ],
      "source": [
        "model.fit(X_train, y_train, batch_size=16, epochs=20, validation_data=(X_valid, y_valid))"
      ]
    },
    {
      "cell_type": "code",
      "execution_count": null,
      "metadata": {
        "colab": {
          "base_uri": "https://localhost:8080/"
        },
        "id": "nZudTJq1LMEu",
        "outputId": "c39aa014-732c-42ec-f907-73842ee7a4a9"
      },
      "outputs": [
        {
          "name": "stdout",
          "output_type": "stream",
          "text": [
            "7/7 [==============================] - 0s 2ms/step - loss: 0.4260 - accuracy: 0.7900\n"
          ]
        },
        {
          "data": {
            "text/plain": [
              "[0.42602208256721497, 0.7900000214576721]"
            ]
          },
          "execution_count": 27,
          "metadata": {},
          "output_type": "execute_result"
        }
      ],
      "source": [
        "model.evaluate(X_test, y_test)"
      ]
    },
    {
      "cell_type": "code",
      "execution_count": 39,
      "metadata": {
        "colab": {
          "base_uri": "https://localhost:8080/"
        },
        "id": "yB5hHD7fzDJg",
        "outputId": "d634d083-b52d-459e-9727-ecbebf085bf2"
      },
      "outputs": [
        {
          "name": "stdout",
          "output_type": "stream",
          "text": [
            "7/7 [==============================] - 0s 2ms/step\n"
          ]
        },
        {
          "data": {
            "text/plain": [
              "array([[0.8251362 ],\n",
              "       [0.9552071 ],\n",
              "       [0.66522104],\n",
              "       [0.05287896],\n",
              "       [0.3636473 ],\n",
              "       [0.44502872],\n",
              "       [0.04331151],\n",
              "       [0.7530948 ],\n",
              "       [0.717291  ],\n",
              "       [0.13668784],\n",
              "       [0.24617042],\n",
              "       [0.77058154],\n",
              "       [0.8065069 ],\n",
              "       [0.04539252],\n",
              "       [0.5645741 ],\n",
              "       [0.01579802],\n",
              "       [0.7310278 ],\n",
              "       [0.8933407 ],\n",
              "       [0.6660672 ],\n",
              "       [0.29963535],\n",
              "       [0.6993869 ],\n",
              "       [0.60014397],\n",
              "       [0.1549823 ],\n",
              "       [0.38344714],\n",
              "       [0.81965554],\n",
              "       [0.11653038],\n",
              "       [0.91369313],\n",
              "       [0.02980365],\n",
              "       [0.08260237],\n",
              "       [0.04999787],\n",
              "       [0.8603682 ],\n",
              "       [0.63931036],\n",
              "       [0.8007598 ],\n",
              "       [0.82697725],\n",
              "       [0.8553509 ],\n",
              "       [0.19906303],\n",
              "       [0.76373297],\n",
              "       [0.43073562],\n",
              "       [0.9646288 ],\n",
              "       [0.81914014],\n",
              "       [0.8524308 ],\n",
              "       [0.7964048 ],\n",
              "       [0.63034964],\n",
              "       [0.5340994 ],\n",
              "       [0.30461076],\n",
              "       [0.6361412 ],\n",
              "       [0.7254847 ],\n",
              "       [0.5931546 ],\n",
              "       [0.04698051],\n",
              "       [0.14655724],\n",
              "       [0.053975  ],\n",
              "       [0.82276875],\n",
              "       [0.20843709],\n",
              "       [0.04760874],\n",
              "       [0.7134919 ],\n",
              "       [0.61892945],\n",
              "       [0.30615452],\n",
              "       [0.7808711 ],\n",
              "       [0.79773766],\n",
              "       [0.79773766],\n",
              "       [0.3212051 ],\n",
              "       [0.34939194],\n",
              "       [0.10052119],\n",
              "       [0.1707518 ],\n",
              "       [0.2279912 ],\n",
              "       [0.06511775],\n",
              "       [0.6175839 ],\n",
              "       [0.70740837],\n",
              "       [0.03582312],\n",
              "       [0.29917845],\n",
              "       [0.1042713 ],\n",
              "       [0.3181045 ],\n",
              "       [0.76921237],\n",
              "       [0.86247474],\n",
              "       [0.9333711 ],\n",
              "       [0.71560407],\n",
              "       [0.3367315 ],\n",
              "       [0.8477667 ],\n",
              "       [0.21272194],\n",
              "       [0.06912916],\n",
              "       [0.8554576 ],\n",
              "       [0.3848707 ],\n",
              "       [0.6081321 ],\n",
              "       [0.36993206],\n",
              "       [0.7822462 ],\n",
              "       [0.76633906],\n",
              "       [0.90357083],\n",
              "       [0.14526497],\n",
              "       [0.0635613 ],\n",
              "       [0.9568927 ],\n",
              "       [0.13678056],\n",
              "       [0.00512079],\n",
              "       [0.65550464],\n",
              "       [0.16078861],\n",
              "       [0.59914637],\n",
              "       [0.65747297],\n",
              "       [0.73698825],\n",
              "       [0.08200387],\n",
              "       [0.02594715],\n",
              "       [0.18687813],\n",
              "       [0.81717676],\n",
              "       [0.52393633],\n",
              "       [0.16508187],\n",
              "       [0.844919  ],\n",
              "       [0.86505836],\n",
              "       [0.41471455],\n",
              "       [0.60720736],\n",
              "       [0.86238194],\n",
              "       [0.47219834],\n",
              "       [0.5225427 ],\n",
              "       [0.01336237],\n",
              "       [0.53307664],\n",
              "       [0.02364738],\n",
              "       [0.7818934 ],\n",
              "       [0.2867626 ],\n",
              "       [0.07497717],\n",
              "       [0.8770011 ],\n",
              "       [0.16198805],\n",
              "       [0.79828346],\n",
              "       [0.0741044 ],\n",
              "       [0.8345198 ],\n",
              "       [0.9718116 ],\n",
              "       [0.14830796],\n",
              "       [0.8099923 ],\n",
              "       [0.00567785],\n",
              "       [0.86933744],\n",
              "       [0.07283305],\n",
              "       [0.81082636],\n",
              "       [0.81508255],\n",
              "       [0.7788765 ],\n",
              "       [0.6754151 ],\n",
              "       [0.49672985],\n",
              "       [0.20346141],\n",
              "       [0.1357688 ],\n",
              "       [0.8724264 ],\n",
              "       [0.16262168],\n",
              "       [0.561992  ],\n",
              "       [0.8603682 ],\n",
              "       [0.15249428],\n",
              "       [0.9646288 ],\n",
              "       [0.59186494],\n",
              "       [0.1244291 ],\n",
              "       [0.01787347],\n",
              "       [0.11667176],\n",
              "       [0.30687732],\n",
              "       [0.8345198 ],\n",
              "       [0.10470104],\n",
              "       [0.35353455],\n",
              "       [0.8095901 ],\n",
              "       [0.63939124],\n",
              "       [0.0433848 ],\n",
              "       [0.5075937 ],\n",
              "       [0.24643028],\n",
              "       [0.6273364 ],\n",
              "       [0.7254847 ],\n",
              "       [0.8065069 ],\n",
              "       [0.08419225],\n",
              "       [0.69565904],\n",
              "       [0.6962611 ],\n",
              "       [0.08172919],\n",
              "       [0.84350884],\n",
              "       [0.6437954 ],\n",
              "       [0.28244314],\n",
              "       [0.67666155],\n",
              "       [0.9568927 ],\n",
              "       [0.9460274 ],\n",
              "       [0.41172966],\n",
              "       [0.86933744],\n",
              "       [0.5615933 ],\n",
              "       [0.02827246],\n",
              "       [0.8205223 ],\n",
              "       [0.40232727],\n",
              "       [0.01037587],\n",
              "       [0.77545303],\n",
              "       [0.21841839],\n",
              "       [0.6015397 ],\n",
              "       [0.0392907 ],\n",
              "       [0.6361412 ],\n",
              "       [0.6896521 ],\n",
              "       [0.58765846],\n",
              "       [0.07186101],\n",
              "       [0.6955822 ],\n",
              "       [0.22625728],\n",
              "       [0.1620635 ],\n",
              "       [0.5225427 ],\n",
              "       [0.20864956],\n",
              "       [0.30517328],\n",
              "       [0.84275603],\n",
              "       [0.6437954 ],\n",
              "       [0.47357902],\n",
              "       [0.47219834],\n",
              "       [0.72603637],\n",
              "       [0.89850956],\n",
              "       [0.2622205 ],\n",
              "       [0.80621624],\n",
              "       [0.07340001],\n",
              "       [0.5634908 ],\n",
              "       [0.8795102 ],\n",
              "       [0.33966628],\n",
              "       [0.6650197 ]], dtype=float32)"
            ]
          },
          "execution_count": 39,
          "metadata": {},
          "output_type": "execute_result"
        }
      ],
      "source": [
        "predictions = model.predict(X_test)\n",
        "predictions"
      ]
    },
    {
      "cell_type": "code",
      "execution_count": 48,
      "metadata": {
        "colab": {
          "base_uri": "https://localhost:8080/",
          "height": 350
        },
        "id": "4jAS66cBy7Pw",
        "outputId": "795f01e8-d41e-4866-9952-b34846ea0359"
      },
      "outputs": [
        {
          "name": "stderr",
          "output_type": "stream",
          "text": [
            "<ipython-input-48-5e66f48f5abc>:6: MatplotlibDeprecationWarning: Adding an axes using the same arguments as a previous axes currently reuses the earlier instance.  In a future version, a new instance will always be created and returned.  Meanwhile, this warning can be suppressed, and the future behavior ensured, by passing a unique label to each axes instance.\n",
            "  ax= plt.subplot()\n"
          ]
        },
        {
          "data": {
            "image/png": "[encoded data removed]",
            "text/plain": [
              "<Figure size 432x288 with 1 Axes>"
            ]
          },
          "metadata": {
            "needs_background": "light"
          },
          "output_type": "display_data"
        }
      ],
      "source": [
        "#converting the predictied probablities into binary class\n",
        "test_preditions = [1 if preds > 0.5 else 0 for preds in predictions]\n",
        "\n",
        "matrix_confusion = confusion_matrix(y_test, test_preditions)\n",
        "sns.heatmap(matrix_confusion, square=True, annot=True, cmap='Blues', fmt='d', cbar=False)\n",
        "\n",
        "ax= plt.subplot()\n",
        "\n",
        "# labels, title and ticks\n",
        "ax.set_xlabel('Predicted labels');ax.set_ylabel('True labels'); \n",
        "ax.set_title('Confusion Matrix'); \n",
        "ax.xaxis.set_ticklabels(['non-diabetic', 'diabetic']); ax.yaxis.set_ticklabels(['non-diabetic', 'diabetic']);"
      ]
    },
    {
      "cell_type": "markdown",
      "metadata": {},
      "source": [
        "Here the number of false negatives i.e patients that are not diabetic but are labeld as diabetid is 23. And the false positives, i.e patients that are diabetic but are labeld as non diabetid is 20. We need to create or tune a model in order to reduce these miss classifications. However, it needs to be noted that the greater false positive numbers with have more serious consequences in real application, if the diabetic patiens go undiagnosed. Non diabetic patiens if wrongly diagnosed will still reflect badly on the model but the damage control is just a second screening away.\n",
        "\n",
        "Also, since deep learning requeirs big volume of data for the model to learn the right patters off of the features, using classic machile leaning models could be another option for this project"
      ]
    },
    {
      "cell_type": "code",
      "execution_count": null,
      "metadata": {
        "id": "OG91RqGYzRlS"
      },
      "outputs": [],
      "source": []
    }
  ],
  "metadata": {
    "colab": {
      "provenance": []
    },
    "kernelspec": {
      "display_name": "Python 3",
      "name": "python3"
    },
    "language_info": {
      "name": "python"
    }
  },
  "nbformat": 4,
  "nbformat_minor": 0
}
